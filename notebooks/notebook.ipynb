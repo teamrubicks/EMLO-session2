{
 "cells": [
  {
   "cell_type": "code",
   "execution_count": 1,
   "source": [
    "import torch\r\n",
    "import torch.nn as nn \r\n",
    "from torchvision import models \r\n",
    "from torchsummary import summary\r\n",
    "from torchvision import transforms, datasets\r\n",
    "import numpy as np\r\n",
    "from tqdm import tqdm\r\n",
    "from functools import partial\r\n",
    "\r\n",
    "tqdm = partial(tqdm, position=0, leave=True)"
   ],
   "outputs": [],
   "metadata": {}
  },
  {
   "cell_type": "code",
   "execution_count": 2,
   "source": [
    "train_transform = transforms.Compose(transforms= [\r\n",
    "    transforms.RandomSizedCrop(32, padding=4),\r\n",
    "    transforms.Resize((32,32)),\r\n",
    "    transforms.RandomHorizontalFlip(),\r\n",
    "    transforms.RandomRotation(2),\r\n",
    "    transforms.ToTensor(),\r\n",
    "    transforms.Normalize(mean=[0.4914, 0.48216, 0.44653], std=[0.2023, 0.1994, 0.2010])\r\n",
    "    \r\n",
    "])\r\n",
    "valid_transforms = transforms.Compose(transforms=[\r\n",
    "    transforms.Resize((32,32)),\r\n",
    "    transforms.ToTensor(),\r\n",
    "    transforms.Normalize(mean=[0.4914, 0.48216, 0.44653], std=[0.2023, 0.1994, 0.2010])\r\n",
    "   \r\n",
    "])"
   ],
   "outputs": [],
   "metadata": {}
  },
  {
   "cell_type": "code",
   "execution_count": 3,
   "source": [
    "batch_size=128\r\n",
    "\r\n",
    "trainset = datasets.CIFAR10(root='C:/CIFAR10', train=True, download=True, transform=train_transform)\r\n",
    "validset = datasets.CIFAR10(root='C:/CIFAR10', train=False, download=True, transform=valid_transforms)"
   ],
   "outputs": [
    {
     "output_type": "stream",
     "name": "stdout",
     "text": [
      "Files already downloaded and verified\n",
      "Files already downloaded and verified\n"
     ]
    }
   ],
   "metadata": {}
  },
  {
   "cell_type": "code",
   "execution_count": 4,
   "source": [
    "class Model(nn.Module):\r\n",
    "    def __init__(self):\r\n",
    "        super().__init__()\r\n",
    "        self.model = models.resnet18(pretrained=True)\r\n",
    "        for param in self.model.parameters():\r\n",
    "            param.requires_grad = False\r\n",
    "        self.model.conv1 = nn.Conv2d(3, 64, kernel_size=3, padding=1, bias=False)\r\n",
    "        self.model.maxpool = nn.Identity()\r\n",
    "        \r\n",
    "        self.model.fc = nn.Linear(self.model.fc.in_features, 10)\r\n",
    "\r\n",
    "    \r\n",
    "    def forward(self, x):\r\n",
    "        return self.model(x)"
   ],
   "outputs": [],
   "metadata": {}
  },
  {
   "cell_type": "code",
   "execution_count": 5,
   "source": [
    "train_loader = torch.utils.data.DataLoader(trainset, batch_size=batch_size, shuffle=True, num_workers=2, pin_memory=True)\r\n",
    "valid_loader = torch.utils.data.DataLoader(validset, batch_size=batch_size, shuffle=False, num_workers=2, pin_memory=True)\r\n",
    "classes = ('plane', 'car', 'bird', 'cat',\r\n",
    "           'deer', 'dog', 'frog', 'horse', 'ship', 'truck')\r\n",
    "\r\n",
    "pred_to_class = {i:cl for i,cl in enumerate(classes)}"
   ],
   "outputs": [],
   "metadata": {}
  },
  {
   "cell_type": "code",
   "execution_count": 6,
   "source": [
    "next(iter(valid_loader))"
   ],
   "outputs": [],
   "metadata": {}
  },
  {
   "cell_type": "code",
   "execution_count": 6,
   "source": [
    "model = Model()\r\n",
    "optimizer = torch.optim.SGD(model.parameters(), lr=0.05, momentum=0.9)\r\n",
    "scheduler = torch.optim.lr_scheduler.MultiStepLR(optimizer, milestones=[25,40])\r\n",
    "\r\n",
    "criterion = nn.CrossEntropyLoss()\r\n"
   ],
   "outputs": [],
   "metadata": {}
  },
  {
   "cell_type": "code",
   "execution_count": 7,
   "source": [
    "x,y = next(iter(train_loader))\r\n",
    "x.shape, y.shape"
   ],
   "outputs": [],
   "metadata": {}
  },
  {
   "cell_type": "code",
   "execution_count": 9,
   "source": [
    "DEVICE='cuda'\r\n",
    "model.to(DEVICE)\r\n",
    "def train(model, train_loader, optimizer, loss_fn, device=DEVICE):\r\n",
    "    model.train()\r\n",
    "    correct = 0\r\n",
    "    train_loss = 0\r\n",
    "\r\n",
    "    for _, data in tqdm(enumerate(train_loader), total=len(train_loader)):\r\n",
    "        \r\n",
    "        data, target = data[0].to(device), data[1].to(device)\r\n",
    "        optimizer.zero_grad()\r\n",
    "\r\n",
    "        optimizer.zero_grad()\r\n",
    "        output = model(data)\r\n",
    "        loss = loss_fn(output, target)\r\n",
    "        train_loss += loss.detach().item()\r\n",
    "        loss.backward()\r\n",
    "        optimizer.step()\r\n",
    "\r\n",
    "        pred = output.argmax(dim=1, keepdim=True)\r\n",
    "        correct += pred.eq(target.view_as(pred)).sum().item()\r\n",
    "\r\n",
    "\r\n",
    "    # train_loss.append(train_loss * 1.0 / len(train_loader.dataset))\r\n",
    "    # train_acc.append(correct * 100.0 / len(train_loader.dataset))\r\n",
    "\r\n",
    "    print(\r\n",
    "        f\"Avg Train loss = {train_loss * 1.0 / len(train_loader.dataset)}, Train Accuracy : {100.0 * correct / len(train_loader.dataset)}\"\r\n",
    "    )\r\n",
    "\r\n",
    "def evaluate(model, valid_loader, loss_fn, device=DEVICE):\r\n",
    "    model.eval()\r\n",
    "    correct = 0\r\n",
    "    valid_loss = 0\r\n",
    "    \r\n",
    "    with torch.no_grad():\r\n",
    "        for _, data in tqdm(enumerate(valid_loader), total=len(valid_loader)):\r\n",
    "            data, target = data[0].to(device), data[1].to(device)\r\n",
    "            output = model(data)\r\n",
    "            valid_loss += loss_fn(output, target, reduction=\"sum\").item()\r\n",
    "            pred = output.argmax(dim=1, keepdims=True)\r\n",
    "            correct += pred.eq(target.view_as(pred)).sum().item()\r\n",
    "\r\n",
    "    \r\n",
    "    valid_loss /= len(valid_loader.dataset) * 1.0\r\n",
    "    valid_loss.append(valid_loss)\r\n",
    "    # valid_acc.append(100.0 * correct / len(valid_loader.dataset))\r\n",
    "    \r\n",
    "    print(\r\n",
    "        f\"Avg Valid loss = {valid_loss}, Valid Accuracy : {100.0 * correct / len(valid_loader.dataset)}\"\r\n",
    "    )"
   ],
   "outputs": [],
   "metadata": {}
  },
  {
   "cell_type": "code",
   "execution_count": null,
   "source": [
    "for epoch in range(20):\n",
    "    print(f'Epoch {epoch + 1}')\n",
    "    train(model, train_loader, optimizer, criterion)\n",
    "    evaluate(model, valid_loader, criterion)\n",
    "    scheduler.step()\n",
    "    "
   ],
   "outputs": [
    {
     "output_type": "stream",
     "name": "stdout",
     "text": [
      "Epoch 1\n"
     ]
    }
   ],
   "metadata": {}
  },
  {
   "cell_type": "code",
   "execution_count": 10,
   "source": [
    "# model.load_state_dict(torch.load('E:\\TSAI\\EMLO\\EMLO-session2\\models\\emlo_session2_model.pt'))\n",
    "# model.eval()"
   ],
   "outputs": [],
   "metadata": {}
  },
  {
   "cell_type": "code",
   "execution_count": null,
   "source": [],
   "outputs": [],
   "metadata": {}
  },
  {
   "cell_type": "code",
   "execution_count": 2,
   "source": [
    "from PIL import Image\n",
    "\n",
    "img = Image.open(\"E:\\\\TSAI\\\\EMLO\\\\EMLO-session2\\\\test_imgs\\\\car_img.jpg\")\n",
    "img.load()\n",
    "# data = np.asarray(img, dtype=\"int32')\n",
    "# data.shape"
   ],
   "outputs": [
    {
     "output_type": "execute_result",
     "data": {
      "text/plain": [
       "<PixelAccess at 0x1d256593b90>"
      ]
     },
     "metadata": {},
     "execution_count": 2
    }
   ],
   "metadata": {}
  },
  {
   "cell_type": "code",
   "execution_count": 3,
   "source": [
    "type(img)"
   ],
   "outputs": [
    {
     "output_type": "execute_result",
     "data": {
      "text/plain": [
       "PIL.JpegImagePlugin.JpegImageFile"
      ]
     },
     "metadata": {},
     "execution_count": 3
    }
   ],
   "metadata": {}
  },
  {
   "cell_type": "code",
   "execution_count": 40,
   "source": [
    "data = valid_transforms(img)"
   ],
   "outputs": [],
   "metadata": {}
  },
  {
   "cell_type": "code",
   "execution_count": 41,
   "source": [
    "pred_to_class"
   ],
   "outputs": [
    {
     "output_type": "execute_result",
     "data": {
      "text/plain": [
       "{0: 'plane',\n",
       " 1: 'car',\n",
       " 2: 'bird',\n",
       " 3: 'cat',\n",
       " 4: 'deer',\n",
       " 5: 'dog',\n",
       " 6: 'frog',\n",
       " 7: 'horse',\n",
       " 8: 'ship',\n",
       " 9: 'truck'}"
      ]
     },
     "metadata": {},
     "execution_count": 41
    }
   ],
   "metadata": {}
  },
  {
   "cell_type": "code",
   "execution_count": 42,
   "source": [
    "data.shape, data.unsqueeze(0).shape"
   ],
   "outputs": [
    {
     "output_type": "execute_result",
     "data": {
      "text/plain": [
       "(torch.Size([3, 32, 32]), torch.Size([1, 3, 32, 32]))"
      ]
     },
     "metadata": {},
     "execution_count": 42
    }
   ],
   "metadata": {}
  },
  {
   "cell_type": "code",
   "execution_count": 43,
   "source": [
    "output = model(data.unsqueeze(0)).detach()\n",
    "pred_idx = output.numpy().argmax()"
   ],
   "outputs": [],
   "metadata": {}
  },
  {
   "cell_type": "code",
   "execution_count": 44,
   "source": [
    "pred_proba = torch.exp(torch.nn.functional.log_softmax(output, dim=1))\n",
    "pred_proba"
   ],
   "outputs": [
    {
     "output_type": "execute_result",
     "data": {
      "text/plain": [
       "tensor([[0.0719, 0.0478, 0.0772, 0.0816, 0.1175, 0.0697, 0.1070, 0.1443, 0.1978,\n",
       "         0.0853]])"
      ]
     },
     "metadata": {},
     "execution_count": 44
    }
   ],
   "metadata": {}
  },
  {
   "cell_type": "code",
   "execution_count": 46,
   "source": [
    "pred_to_class[pred_idx]"
   ],
   "outputs": [
    {
     "output_type": "execute_result",
     "data": {
      "text/plain": [
       "'ship'"
      ]
     },
     "metadata": {},
     "execution_count": 46
    }
   ],
   "metadata": {}
  },
  {
   "cell_type": "code",
   "execution_count": null,
   "source": [],
   "outputs": [],
   "metadata": {}
  }
 ],
 "metadata": {
  "interpreter": {
   "hash": "9131c53ea609b1c83a4930f9ef9b895156b0f40bc80fb8f9ee0bf5a21c6927cd"
  },
  "kernelspec": {
   "name": "python3",
   "display_name": "Python 3.9.7 64-bit ('base': conda)"
  },
  "language_info": {
   "codemirror_mode": {
    "name": "ipython",
    "version": 3
   },
   "file_extension": ".py",
   "mimetype": "text/x-python",
   "name": "python",
   "nbconvert_exporter": "python",
   "pygments_lexer": "ipython3",
   "version": "3.9.7"
  }
 },
 "nbformat": 4,
 "nbformat_minor": 2
}